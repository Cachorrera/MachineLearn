{
 "cells": [
  {
   "cell_type": "code",
   "execution_count": 13,
   "metadata": {
    "collapsed": false
   },
   "outputs": [],
   "source": [
    "from sklearn import neighbors, datasets\n",
    "from sklearn.neural_network import MLPClassifier\n",
    "from sklearn.model_selection import cross_val_score, StratifiedShuffleSplit, GridSearchCV\n",
    "import numpy as np\n",
    "import matplotlib.pyplot as plt\n"
   ]
  },
  {
   "cell_type": "code",
   "execution_count": 14,
   "metadata": {
    "collapsed": false
   },
   "outputs": [
    {
     "name": "stdout",
     "output_type": "stream",
     "text": [
      "Base de Dados Breast Cancer\n",
      "Número de instâncias:  569  Número de atributos:  30\n",
      "Base de Dados Digits\n",
      "Número de instâncias:  1797  Número de atributos:  64\n",
      "Base de Dados Iris\n",
      "Número de instâncias:  150  Número de atributos:  4\n"
     ]
    }
   ],
   "source": [
    "#Carrega a base de dados\n",
    "dados_cancer = datasets.load_breast_cancer()\n",
    "dados_digits = datasets.load_digits()\n",
    "dados_iris = datasets.load_iris()\n",
    "\n",
    "print(\"Base de Dados Breast Cancer\")\n",
    "print(\"Número de instâncias: \",dados_cancer.data.shape[0],\" Número de atributos: \",dados_cancer.data.shape[1])\n",
    "print(\"Base de Dados Digits\")\n",
    "print(\"Número de instâncias: \",dados_digits.data.shape[0],\" Número de atributos: \",dados_digits.data.shape[1])\n",
    "print(\"Base de Dados Iris\")\n",
    "print(\"Número de instâncias: \",dados_iris.data.shape[0],\" Número de atributos: \",dados_iris.data.shape[1])"
   ]
  },
  {
   "cell_type": "code",
   "execution_count": 30,
   "metadata": {
    "collapsed": false
   },
   "outputs": [
    {
     "name": "stdout",
     "output_type": "stream",
     "text": [
      "{'hidden_layer_sizes': [(100,), (100, 100), (100, 100, 100)], 'solver': ['lbfgs', 'sgd']}\n"
     ]
    }
   ],
   "source": [
    "#Setando os parâmetros (hidden_layer_sizes, solver) para procurar seus possíveis melhores valores para o mlp\n",
    "#Sem o random_state, para cada execução do algoritmo pode variar a escolha do melhor parâmetro\n",
    "mlp = MLPClassifier(random_state=3)\n",
    "\n",
    "#Número de hidden layers \n",
    "# 1 - (100 neurônios na camada 1)\n",
    "# 2 - (100 neurônios na camada 1 e 100 neurônios na camada 2)\n",
    "# 3 - (100 neurônios na camada 1, 100 neurônios na camada 2 e 100 neurônios na camada 3)\n",
    "layers = [(100,),(100,100),(100,100,100)]\n",
    "\n",
    "#Testar os seguintes valores de solver\n",
    "solver = ['lbfgs','sgd']\n",
    "\n",
    "#Setando os parâmetros para o GridSearchCV\n",
    "param_grid = dict(hidden_layer_sizes=layers, solver=solver)\n",
    "\n",
    "print(param_grid)\n",
    "\n",
    "#Usando GridSearchCV para estimar os melhores parâmetros com Cross Validation k-folds=10 e score='accuracy'\n",
    "grid = GridSearchCV(mlp, param_grid, cv=10, scoring='accuracy')\n"
   ]
  },
  {
   "cell_type": "code",
   "execution_count": 31,
   "metadata": {
    "collapsed": false
   },
   "outputs": [
    {
     "name": "stdout",
     "output_type": "stream",
     "text": [
      "Melhor configuração para a Base de Dados Breast Cancer\n",
      "MLPClassifier(activation='relu', alpha=0.0001, batch_size='auto', beta_1=0.9,\n",
      "       beta_2=0.999, early_stopping=False, epsilon=1e-08,\n",
      "       hidden_layer_sizes=(100,), learning_rate='constant',\n",
      "       learning_rate_init=0.001, max_iter=200, momentum=0.9,\n",
      "       nesterovs_momentum=True, power_t=0.5, random_state=3, shuffle=True,\n",
      "       solver='lbfgs', tol=0.0001, validation_fraction=0.1, verbose=False,\n",
      "       warm_start=False)\n",
      "Melhor score:  0.942003514938\n",
      "Melhores parâmetros:  {'hidden_layer_sizes': (100,), 'solver': 'lbfgs'}\n",
      "\n",
      "\n",
      "Melhor configuração para a Base de Dados Digits\n",
      "MLPClassifier(activation='relu', alpha=0.0001, batch_size='auto', beta_1=0.9,\n",
      "       beta_2=0.999, early_stopping=False, epsilon=1e-08,\n",
      "       hidden_layer_sizes=(100, 100, 100), learning_rate='constant',\n",
      "       learning_rate_init=0.001, max_iter=200, momentum=0.9,\n",
      "       nesterovs_momentum=True, power_t=0.5, random_state=3, shuffle=True,\n",
      "       solver='lbfgs', tol=0.0001, validation_fraction=0.1, verbose=False,\n",
      "       warm_start=False)\n",
      "Melhor score:  0.954924874791\n",
      "Melhores parâmetros:  {'hidden_layer_sizes': (100, 100, 100), 'solver': 'lbfgs'}\n"
     ]
    },
    {
     "name": "stderr",
     "output_type": "stream",
     "text": [
      "C:\\Users\\fernando.brandao\\AppData\\Local\\Continuum\\Anaconda3\\lib\\site-packages\\sklearn\\neural_network\\multilayer_perceptron.py:563: ConvergenceWarning: Stochastic Optimizer: Maximum iterations reached and the optimization hasn't converged yet.\n",
      "  % (), ConvergenceWarning)\n",
      "C:\\Users\\fernando.brandao\\AppData\\Local\\Continuum\\Anaconda3\\lib\\site-packages\\sklearn\\neural_network\\multilayer_perceptron.py:563: ConvergenceWarning: Stochastic Optimizer: Maximum iterations reached and the optimization hasn't converged yet.\n",
      "  % (), ConvergenceWarning)\n",
      "C:\\Users\\fernando.brandao\\AppData\\Local\\Continuum\\Anaconda3\\lib\\site-packages\\sklearn\\neural_network\\multilayer_perceptron.py:563: ConvergenceWarning: Stochastic Optimizer: Maximum iterations reached and the optimization hasn't converged yet.\n",
      "  % (), ConvergenceWarning)\n",
      "C:\\Users\\fernando.brandao\\AppData\\Local\\Continuum\\Anaconda3\\lib\\site-packages\\sklearn\\neural_network\\multilayer_perceptron.py:563: ConvergenceWarning: Stochastic Optimizer: Maximum iterations reached and the optimization hasn't converged yet.\n",
      "  % (), ConvergenceWarning)\n",
      "C:\\Users\\fernando.brandao\\AppData\\Local\\Continuum\\Anaconda3\\lib\\site-packages\\sklearn\\neural_network\\multilayer_perceptron.py:563: ConvergenceWarning: Stochastic Optimizer: Maximum iterations reached and the optimization hasn't converged yet.\n",
      "  % (), ConvergenceWarning)\n",
      "C:\\Users\\fernando.brandao\\AppData\\Local\\Continuum\\Anaconda3\\lib\\site-packages\\sklearn\\neural_network\\multilayer_perceptron.py:563: ConvergenceWarning: Stochastic Optimizer: Maximum iterations reached and the optimization hasn't converged yet.\n",
      "  % (), ConvergenceWarning)\n",
      "C:\\Users\\fernando.brandao\\AppData\\Local\\Continuum\\Anaconda3\\lib\\site-packages\\sklearn\\neural_network\\multilayer_perceptron.py:563: ConvergenceWarning: Stochastic Optimizer: Maximum iterations reached and the optimization hasn't converged yet.\n",
      "  % (), ConvergenceWarning)\n",
      "C:\\Users\\fernando.brandao\\AppData\\Local\\Continuum\\Anaconda3\\lib\\site-packages\\sklearn\\neural_network\\multilayer_perceptron.py:563: ConvergenceWarning: Stochastic Optimizer: Maximum iterations reached and the optimization hasn't converged yet.\n",
      "  % (), ConvergenceWarning)\n",
      "C:\\Users\\fernando.brandao\\AppData\\Local\\Continuum\\Anaconda3\\lib\\site-packages\\sklearn\\neural_network\\multilayer_perceptron.py:563: ConvergenceWarning: Stochastic Optimizer: Maximum iterations reached and the optimization hasn't converged yet.\n",
      "  % (), ConvergenceWarning)\n",
      "C:\\Users\\fernando.brandao\\AppData\\Local\\Continuum\\Anaconda3\\lib\\site-packages\\sklearn\\neural_network\\multilayer_perceptron.py:563: ConvergenceWarning: Stochastic Optimizer: Maximum iterations reached and the optimization hasn't converged yet.\n",
      "  % (), ConvergenceWarning)\n",
      "C:\\Users\\fernando.brandao\\AppData\\Local\\Continuum\\Anaconda3\\lib\\site-packages\\sklearn\\neural_network\\multilayer_perceptron.py:563: ConvergenceWarning: Stochastic Optimizer: Maximum iterations reached and the optimization hasn't converged yet.\n",
      "  % (), ConvergenceWarning)\n",
      "C:\\Users\\fernando.brandao\\AppData\\Local\\Continuum\\Anaconda3\\lib\\site-packages\\sklearn\\neural_network\\multilayer_perceptron.py:563: ConvergenceWarning: Stochastic Optimizer: Maximum iterations reached and the optimization hasn't converged yet.\n",
      "  % (), ConvergenceWarning)\n",
      "C:\\Users\\fernando.brandao\\AppData\\Local\\Continuum\\Anaconda3\\lib\\site-packages\\sklearn\\neural_network\\multilayer_perceptron.py:563: ConvergenceWarning: Stochastic Optimizer: Maximum iterations reached and the optimization hasn't converged yet.\n",
      "  % (), ConvergenceWarning)\n",
      "C:\\Users\\fernando.brandao\\AppData\\Local\\Continuum\\Anaconda3\\lib\\site-packages\\sklearn\\neural_network\\multilayer_perceptron.py:563: ConvergenceWarning: Stochastic Optimizer: Maximum iterations reached and the optimization hasn't converged yet.\n",
      "  % (), ConvergenceWarning)\n",
      "C:\\Users\\fernando.brandao\\AppData\\Local\\Continuum\\Anaconda3\\lib\\site-packages\\sklearn\\neural_network\\multilayer_perceptron.py:563: ConvergenceWarning: Stochastic Optimizer: Maximum iterations reached and the optimization hasn't converged yet.\n",
      "  % (), ConvergenceWarning)\n",
      "C:\\Users\\fernando.brandao\\AppData\\Local\\Continuum\\Anaconda3\\lib\\site-packages\\sklearn\\neural_network\\multilayer_perceptron.py:563: ConvergenceWarning: Stochastic Optimizer: Maximum iterations reached and the optimization hasn't converged yet.\n",
      "  % (), ConvergenceWarning)\n",
      "C:\\Users\\fernando.brandao\\AppData\\Local\\Continuum\\Anaconda3\\lib\\site-packages\\sklearn\\neural_network\\multilayer_perceptron.py:563: ConvergenceWarning: Stochastic Optimizer: Maximum iterations reached and the optimization hasn't converged yet.\n",
      "  % (), ConvergenceWarning)\n",
      "C:\\Users\\fernando.brandao\\AppData\\Local\\Continuum\\Anaconda3\\lib\\site-packages\\sklearn\\neural_network\\multilayer_perceptron.py:563: ConvergenceWarning: Stochastic Optimizer: Maximum iterations reached and the optimization hasn't converged yet.\n",
      "  % (), ConvergenceWarning)\n",
      "C:\\Users\\fernando.brandao\\AppData\\Local\\Continuum\\Anaconda3\\lib\\site-packages\\sklearn\\neural_network\\multilayer_perceptron.py:563: ConvergenceWarning: Stochastic Optimizer: Maximum iterations reached and the optimization hasn't converged yet.\n",
      "  % (), ConvergenceWarning)\n",
      "C:\\Users\\fernando.brandao\\AppData\\Local\\Continuum\\Anaconda3\\lib\\site-packages\\sklearn\\neural_network\\multilayer_perceptron.py:563: ConvergenceWarning: Stochastic Optimizer: Maximum iterations reached and the optimization hasn't converged yet.\n",
      "  % (), ConvergenceWarning)\n",
      "C:\\Users\\fernando.brandao\\AppData\\Local\\Continuum\\Anaconda3\\lib\\site-packages\\sklearn\\neural_network\\multilayer_perceptron.py:563: ConvergenceWarning: Stochastic Optimizer: Maximum iterations reached and the optimization hasn't converged yet.\n",
      "  % (), ConvergenceWarning)\n",
      "C:\\Users\\fernando.brandao\\AppData\\Local\\Continuum\\Anaconda3\\lib\\site-packages\\sklearn\\neural_network\\multilayer_perceptron.py:563: ConvergenceWarning: Stochastic Optimizer: Maximum iterations reached and the optimization hasn't converged yet.\n",
      "  % (), ConvergenceWarning)\n",
      "C:\\Users\\fernando.brandao\\AppData\\Local\\Continuum\\Anaconda3\\lib\\site-packages\\sklearn\\neural_network\\multilayer_perceptron.py:563: ConvergenceWarning: Stochastic Optimizer: Maximum iterations reached and the optimization hasn't converged yet.\n",
      "  % (), ConvergenceWarning)\n",
      "C:\\Users\\fernando.brandao\\AppData\\Local\\Continuum\\Anaconda3\\lib\\site-packages\\sklearn\\neural_network\\multilayer_perceptron.py:563: ConvergenceWarning: Stochastic Optimizer: Maximum iterations reached and the optimization hasn't converged yet.\n",
      "  % (), ConvergenceWarning)\n",
      "C:\\Users\\fernando.brandao\\AppData\\Local\\Continuum\\Anaconda3\\lib\\site-packages\\sklearn\\neural_network\\multilayer_perceptron.py:563: ConvergenceWarning: Stochastic Optimizer: Maximum iterations reached and the optimization hasn't converged yet.\n",
      "  % (), ConvergenceWarning)\n",
      "C:\\Users\\fernando.brandao\\AppData\\Local\\Continuum\\Anaconda3\\lib\\site-packages\\sklearn\\neural_network\\multilayer_perceptron.py:563: ConvergenceWarning: Stochastic Optimizer: Maximum iterations reached and the optimization hasn't converged yet.\n",
      "  % (), ConvergenceWarning)\n",
      "C:\\Users\\fernando.brandao\\AppData\\Local\\Continuum\\Anaconda3\\lib\\site-packages\\sklearn\\neural_network\\multilayer_perceptron.py:563: ConvergenceWarning: Stochastic Optimizer: Maximum iterations reached and the optimization hasn't converged yet.\n",
      "  % (), ConvergenceWarning)\n",
      "C:\\Users\\fernando.brandao\\AppData\\Local\\Continuum\\Anaconda3\\lib\\site-packages\\sklearn\\neural_network\\multilayer_perceptron.py:563: ConvergenceWarning: Stochastic Optimizer: Maximum iterations reached and the optimization hasn't converged yet.\n",
      "  % (), ConvergenceWarning)\n",
      "C:\\Users\\fernando.brandao\\AppData\\Local\\Continuum\\Anaconda3\\lib\\site-packages\\sklearn\\neural_network\\multilayer_perceptron.py:563: ConvergenceWarning: Stochastic Optimizer: Maximum iterations reached and the optimization hasn't converged yet.\n",
      "  % (), ConvergenceWarning)\n",
      "C:\\Users\\fernando.brandao\\AppData\\Local\\Continuum\\Anaconda3\\lib\\site-packages\\sklearn\\neural_network\\multilayer_perceptron.py:563: ConvergenceWarning: Stochastic Optimizer: Maximum iterations reached and the optimization hasn't converged yet.\n",
      "  % (), ConvergenceWarning)\n"
     ]
    },
    {
     "name": "stdout",
     "output_type": "stream",
     "text": [
      "\n",
      "\n",
      "Melhor configuração para a Base de Dados Iris\n",
      "MLPClassifier(activation='relu', alpha=0.0001, batch_size='auto', beta_1=0.9,\n",
      "       beta_2=0.999, early_stopping=False, epsilon=1e-08,\n",
      "       hidden_layer_sizes=(100, 100, 100), learning_rate='constant',\n",
      "       learning_rate_init=0.001, max_iter=200, momentum=0.9,\n",
      "       nesterovs_momentum=True, power_t=0.5, random_state=3, shuffle=True,\n",
      "       solver='lbfgs', tol=0.0001, validation_fraction=0.1, verbose=False,\n",
      "       warm_start=False)\n",
      "Melhor score:  0.98\n",
      "Melhores parâmetros:  {'hidden_layer_sizes': (100, 100, 100), 'solver': 'lbfgs'}\n"
     ]
    }
   ],
   "source": [
    "#Treinando o mlp para a Base de Dados Breast Cancer\n",
    "grid.fit(dados_cancer.data,dados_cancer.target)\n",
    "\n",
    "print(\"Melhor configuração para a Base de Dados Breast Cancer\")\n",
    "print(grid.best_estimator_)\n",
    "\n",
    "print(\"Melhor score: \",grid.best_score_)\n",
    "print(\"Melhores parâmetros: \",grid.best_params_)\n",
    "\n",
    "#Treinando o mlp para a Base de Dados Digits\n",
    "grid.fit(dados_digits.data,dados_digits.target)\n",
    "\n",
    "print(\"\\n\\nMelhor configuração para a Base de Dados Digits\")\n",
    "print(grid.best_estimator_)\n",
    "\n",
    "print(\"Melhor score: \",grid.best_score_)\n",
    "print(\"Melhores parâmetros: \",grid.best_params_)\n",
    "\n",
    "#Treinando o mlp para a Base de Dados Iris\n",
    "grid.fit(dados_iris.data,dados_iris.target)\n",
    "\n",
    "print(\"\\n\\nMelhor configuração para a Base de Dados Iris\")\n",
    "print(grid.best_estimator_)\n",
    "\n",
    "print(\"Melhor score: \",grid.best_score_)\n",
    "print(\"Melhores parâmetros: \",grid.best_params_)\n"
   ]
  }
 ],
 "metadata": {
  "kernelspec": {
   "display_name": "Python 3",
   "language": "python",
   "name": "python3"
  },
  "language_info": {
   "codemirror_mode": {
    "name": "ipython",
    "version": 3
   },
   "file_extension": ".py",
   "mimetype": "text/x-python",
   "name": "python",
   "nbconvert_exporter": "python",
   "pygments_lexer": "ipython3",
   "version": "3.6.0"
  }
 },
 "nbformat": 4,
 "nbformat_minor": 2
}
