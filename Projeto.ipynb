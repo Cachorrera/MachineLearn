{
 "cells": [
  {
   "cell_type": "code",
   "execution_count": 1,
   "metadata": {
    "collapsed": true
   },
   "outputs": [],
   "source": [
    "from sklearn import neighbors, datasets\n",
    "from sklearn.neural_network import MLPClassifier\n",
    "from sklearn.model_selection import train_test_split, cross_val_score, ShuffleSplit\n",
    "import numpy as np\n"
   ]
  },
  {
   "cell_type": "code",
   "execution_count": 2,
   "metadata": {
    "collapsed": true
   },
   "outputs": [],
   "source": [
    "#Carrega a base de dados\n",
    "dados_cancer = datasets.load_breast_cancer()\n",
    "dados_digits = datasets.load_digits()\n",
    "dados_iris = datasets.load_iris()"
   ]
  },
  {
   "cell_type": "code",
   "execution_count": 97,
   "metadata": {
    "collapsed": false
   },
   "outputs": [],
   "source": [
    "#Procura pelo melhor k=numero_de_vizinhos para o KNN usando Cross Validation com 10 folds.\n",
    "def find_best_k_neighbors(attempts,X_data,Y_data):\n",
    "    k_range = range(1, attempts+1)\n",
    "    k_scores_neighbors=[]\n",
    "    for k in k_range:\n",
    "        knn = neighbors.KNeighborsClassifier(n_neighbors=k)\n",
    "        scores = cross_val_score(knn,X_data,Y_data, cv=10,scoring='accuracy')\n",
    "        k_scores_neighbors.append([scores.mean(),k])\n",
    "    return k_scores_neighbors[:],max(k_scores_neighbors)[1]"
   ]
  },
  {
   "cell_type": "code",
   "execution_count": 98,
   "metadata": {
    "collapsed": false
   },
   "outputs": [
    {
     "name": "stdout",
     "output_type": "stream",
     "text": [
      "[[0.95999999999999996, 1], [0.95333333333333337, 2], [0.96666666666666656, 3], [0.96666666666666656, 4], [0.96666666666666679, 5], [0.96666666666666679, 6], [0.96666666666666679, 7], [0.96666666666666679, 8], [0.97333333333333338, 9], [0.96666666666666679, 10], [0.96666666666666679, 11], [0.97333333333333338, 12], [0.98000000000000009, 13], [0.97333333333333338, 14], [0.97333333333333338, 15], [0.97333333333333338, 16], [0.97333333333333338, 17], [0.98000000000000009, 18], [0.97333333333333338, 19], [0.98000000000000009, 20], [0.96666666666666656, 21], [0.96666666666666656, 22], [0.97333333333333338, 23], [0.95999999999999996, 24], [0.96666666666666656, 25], [0.95999999999999996, 26], [0.96666666666666656, 27], [0.95333333333333337, 28], [0.95333333333333337, 29], [0.95333333333333337, 30]] 20\n"
     ]
    }
   ],
   "source": [
    "#Configurando o KNN para a base de dados breast_cancer com 30 tentativas\n",
    "array_acuracia,melhor_k = find_best_k_neighbors(30,dados_iris.data,dados_iris.target)\n",
    "print(array_acuracia,melhor_k)"
   ]
  }
 ],
 "metadata": {
  "kernelspec": {
   "display_name": "Python 3",
   "language": "python",
   "name": "python3"
  },
  "language_info": {
   "codemirror_mode": {
    "name": "ipython",
    "version": 3
   },
   "file_extension": ".py",
   "mimetype": "text/x-python",
   "name": "python",
   "nbconvert_exporter": "python",
   "pygments_lexer": "ipython3",
   "version": "3.6.0"
  }
 },
 "nbformat": 4,
 "nbformat_minor": 2
}
